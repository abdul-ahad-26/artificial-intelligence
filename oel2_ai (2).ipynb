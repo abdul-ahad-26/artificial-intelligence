{
  "cells": [
    {
      "cell_type": "code",
      "execution_count": null,
      "metadata": {
        "colab": {
          "base_uri": "https://localhost:8080/"
        },
        "id": "tMyqzezBN-2J",
        "outputId": "7fec7ff9-c16a-4e8d-aed4-fdf2576b01d0"
      },
      "outputs": [
        {
          "name": "stdout",
          "output_type": "stream",
          "text": [
            "Distance using bfs= 17\n",
            "Path using bfs:  ['A', 'B', 'C', 'D', 'E', 'F', 'G']\n",
            "Distance using dfs= 11\n",
            "Path using dfs:  ['A', 'B', 'C', 'F', 'G']\n"
          ]
        }
      ],
      "source": [
        "# Roll no : 23-ai-26\n",
        "\n",
        "\n",
        "# University campus path\n",
        "graph = {\n",
        " 'A': [('B', 6), ('C', 2)],\n",
        " 'B': [('D', 5), ('E', 3)],\n",
        " 'C': [('F', 4)],\n",
        " 'D': [('G', 2)],\n",
        " 'E': [('G', 6)],\n",
        " 'F': [('G', 1)],\n",
        " 'G': []\n",
        "}\n",
        "\n",
        "def bfs(start, goal, graph):\n",
        "  \"\"\"return path using breadth first search until goal is achieve\"\"\"\n",
        "  queue = [start]\n",
        "  path = []\n",
        "  visited = set()\n",
        "  distance = 0\n",
        "  while queue:\n",
        "    vertex = queue.pop(0)\n",
        "    distance += graph[vertex][0][1]\n",
        "    if vertex not in visited :\n",
        "      visited.add(vertex)\n",
        "      path.append(vertex)\n",
        "      for neighbour in graph[vertex]:\n",
        "        queue.append(neighbour[0])\n",
        "        path.append(neighbour[0])\n",
        "        if neighbour[0] == goal :\n",
        "          print(\"Distance using bfs=\", distance)\n",
        "          return path\n",
        "\n",
        "  return []\n",
        "\n",
        "\n",
        "def dfs(start, goal, graph):\n",
        "  \"\"\"return path using depth first search until goal is achieve\"\"\"\n",
        "\n",
        "  stack = [start]\n",
        "  path = [start]\n",
        "  visited = set()\n",
        "  distance = 0\n",
        "  while stack:\n",
        "    # print(\"helo\")\n",
        "    vertex = stack.pop()\n",
        "    distance += graph[vertex][0][1]\n",
        "    if vertex not in visited :\n",
        "      visited.add(vertex)\n",
        "      for neighbour in graph[vertex]:\n",
        "        # print(neighbour[0])\n",
        "        stack.append(neighbour[0])\n",
        "        path.append(neighbour[0])\n",
        "        # distance += graph[vertex][0][1]\n",
        "\n",
        "        if neighbour[0] == goal :\n",
        "          print(\"Distance using dfs=\", distance)\n",
        "          return path\n",
        "\n",
        "  return []\n",
        "\n",
        "\n",
        "# University campus path\n",
        "graph = {\n",
        " 'A': [('B', 6), ('C', 2)],\n",
        " 'B': [('D', 5), ('E', 3)],\n",
        " 'C': [('F', 4)],\n",
        " 'D': [('G', 2)],\n",
        " 'E': [('G', 6)],\n",
        " 'F': [('G', 1)],\n",
        " 'G': []\n",
        "}\n",
        "\n",
        "\n",
        "# 1. Implement Breadth First Search to find any path from A to G.\n",
        "path = bfs(\"A\",\"G\",graph)\n",
        "print(\"Path using bfs: \", path)\n",
        "\n",
        "# 2. Implement depth First Search to find any path from A to G.\n",
        "path = dfs(\"A\",\"G\",graph)\n",
        "print(\"Path using dfs: \", path)\n"
      ]
    }
  ],
  "metadata": {
    "colab": {
      "provenance": []
    },
    "kernelspec": {
      "display_name": "Python 3",
      "name": "python3"
    },
    "language_info": {
      "codemirror_mode": {
        "name": "ipython",
        "version": 3
      },
      "file_extension": ".py",
      "mimetype": "text/x-python",
      "name": "python",
      "nbconvert_exporter": "python",
      "pygments_lexer": "ipython3",
      "version": "3.13.3"
    }
  },
  "nbformat": 4,
  "nbformat_minor": 0
}
