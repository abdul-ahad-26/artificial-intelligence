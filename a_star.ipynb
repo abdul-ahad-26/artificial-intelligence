{
 "cells": [
  {
   "cell_type": "code",
   "execution_count": 15,
   "id": "127da538",
   "metadata": {},
   "outputs": [
    {
     "name": "stdout",
     "output_type": "stream",
     "text": [
      "Goal reached! Total cost = 17\n"
     ]
    }
   ],
   "source": [
    "import heapq\n",
    "\n",
    "# Graph with edge costs (g(n))\n",
    "graph = {\n",
    "    'S': [('B', 4), ('C', 3)],\n",
    "    'B': [('F', 5), ('E', 12)],\n",
    "    'C': [('E', 10), ('D', 7)],\n",
    "    'D': [('E', 2)],\n",
    "    'E': [('F', 12), ('G', 5)],\n",
    "    'F': [('G', 16)],\n",
    "    'G': []\n",
    "}\n",
    "\n",
    "# Heuristic estimates (h(n)) for each node to the goal\n",
    "heuristics = {\n",
    "    'S': 14,\n",
    "    'B': 12,\n",
    "    'C': 11,\n",
    "    'D': 6,\n",
    "    'E': 4,\n",
    "    'F': 11,\n",
    "    'G': 0\n",
    "}\n",
    "\n",
    "def a_star(start, goal):\n",
    "    hq = []  # Priority queue for nodes to visit\n",
    "    # Push the start node with priority = f(start) = g(start)+h(start) = 0 + h(start)\n",
    "    heapq.heappush(hq, (heuristics[start], start))\n",
    "\n",
    "    cost_so_far = {start: 0}  # Stores g(n): cost from start to each node\n",
    "    visited = set()  # Keep track of visited nodes to avoid repeats\n",
    "\n",
    "    while hq:\n",
    "        # Pop node with lowest f(n) = g(n) + h(n)\n",
    "        _, current = heapq.heappop(hq)\n",
    "\n",
    "        # If goal is reached, return total cost\n",
    "        if current == goal:\n",
    "            return f\"Goal reached! Total cost = {cost_so_far[current]}\"\n",
    "\n",
    "        # Skip if already visited\n",
    "        if current in visited:\n",
    "            continue\n",
    "        visited.add(current)\n",
    "\n",
    "        # Explore neighbors\n",
    "        for neighbor, edge_cost in graph[current]:\n",
    "            # Calculate new cost to reach neighbor\n",
    "            new_cost = cost_so_far[current] + edge_cost\n",
    "\n",
    "            # Only add/update if this path is better (shorter) than any previously found\n",
    "            if neighbor not in cost_so_far or new_cost < cost_so_far[neighbor]:\n",
    "                cost_so_far[neighbor] = new_cost  # Update cost to neighbor\n",
    "                priority = new_cost + heuristics[neighbor]  # f(n) = g(n) + h(n)\n",
    "                heapq.heappush(hq, (priority, neighbor))  # Push with updated priority\n",
    "\n",
    "    return \"Goal not reachable\"  # If goal was never reached\n",
    "\n",
    "# Run the algorithm\n",
    "print(a_star('S', 'G'))\n"
   ]
  }
 ],
 "metadata": {
  "kernelspec": {
   "display_name": "Python 3",
   "language": "python",
   "name": "python3"
  },
  "language_info": {
   "codemirror_mode": {
    "name": "ipython",
    "version": 3
   },
   "file_extension": ".py",
   "mimetype": "text/x-python",
   "name": "python",
   "nbconvert_exporter": "python",
   "pygments_lexer": "ipython3",
   "version": "3.13.3"
  }
 },
 "nbformat": 4,
 "nbformat_minor": 5
}
