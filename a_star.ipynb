{
 "cells": [
  {
   "cell_type": "code",
   "execution_count": null,
   "id": "f1595484",
   "metadata": {},
   "outputs": [],
   "source": [
    "\"\"\"\n",
    "graph = {}\n",
    "\n",
    "heuristics = {\n",
    "    'S': 14,\n",
    "    'B': 12,\n",
    "    'C': 11,\n",
    "    'D': 6,\n",
    "    'E': 4,\n",
    "    'F': 11,\n",
    "    'G': 0\n",
    "}\n",
    "\n",
    "def h(n):\n",
    "    return heuristics.get(n, float('inf'))\n",
    "\n",
    "def g(n):\n",
    "    return cost_so_far.get(n, float('inf'))\n",
    "\n",
    "\n",
    "1. Initialize an empty priority queue with heapq named hq. \n",
    "2. Initialize cost_so_far = {start: 0}\n",
    "3. node = start \n",
    "4. insert strating node into heapq.heapush(hq, (g(n) + h(n), node))\n",
    "5. while hq is not empty: \n",
    "                remove node current from hq with least evaluation \n",
    "                if current is the goal terminate the search\n",
    "                mark current as visited\n",
    "                for every neighbour v of current add current in the hq:\n",
    "end the procedure when hq is empty \n",
    "\n",
    "\"\"\""
   ]
  },
  {
   "cell_type": "code",
   "execution_count": 12,
   "id": "127da538",
   "metadata": {},
   "outputs": [
    {
     "name": "stdout",
     "output_type": "stream",
     "text": [
      "Goal reached! Total cost = 17\n"
     ]
    }
   ],
   "source": [
    "import heapq\n",
    "\n",
    "# Graph with edge costs\n",
    "graph = {\n",
    "    'S': [('B', 4), ('C', 3)],\n",
    "    'B': [('F', 5), ('E', 12)],\n",
    "    'C': [('E', 10), ('D', 7)],\n",
    "    'D': [('E', 2)],\n",
    "    'E': [('F', 12), ('G', 5)],\n",
    "    'F': [('G', 16)],\n",
    "    'G': []\n",
    "}\n",
    "\n",
    "# Heuristic values for each node\n",
    "heuristics = {\n",
    "    'S': 14,\n",
    "    'B': 12,\n",
    "    'C': 11,\n",
    "    'D': 6,\n",
    "    'E': 4,\n",
    "    'F': 11,\n",
    "    'G': 0\n",
    "}\n",
    "\n",
    "def a_star(start, goal):\n",
    "    hq = []  # priority queue\n",
    "    heapq.heappush(hq, (heuristics[start], start))  # f(n) = h(n) + g(n)\n",
    "\n",
    "    cost_so_far = {start: 0}  # g(n): cost from start to current\n",
    "    visited = set()\n",
    "\n",
    "    while hq:\n",
    "        _, current = heapq.heappop(hq)\n",
    "\n",
    "        if current == goal:\n",
    "            return f\"Goal reached! Total cost = {cost_so_far[current]}\"\n",
    "\n",
    "        if current in visited:\n",
    "            continue\n",
    "        visited.add(current)\n",
    "\n",
    "        for neighbor, edge_cost in graph[current]:\n",
    "            new_cost = cost_so_far[current] + edge_cost\n",
    "\n",
    "            if neighbor not in cost_so_far or new_cost < cost_so_far[neighbor]:\n",
    "                cost_so_far[neighbor] = new_cost\n",
    "                priority = new_cost + heuristics[neighbor]  # f(n) = g(n) + h(n)\n",
    "                heapq.heappush(hq, (priority, neighbor))\n",
    "\n",
    "    return \"Goal not reachable\"\n",
    "\n",
    "# Run it\n",
    "print(a_star('S', 'G'))\n"
   ]
  }
 ],
 "metadata": {
  "kernelspec": {
   "display_name": "Python 3",
   "language": "python",
   "name": "python3"
  },
  "language_info": {
   "codemirror_mode": {
    "name": "ipython",
    "version": 3
   },
   "file_extension": ".py",
   "mimetype": "text/x-python",
   "name": "python",
   "nbconvert_exporter": "python",
   "pygments_lexer": "ipython3",
   "version": "3.13.3"
  }
 },
 "nbformat": 4,
 "nbformat_minor": 5
}
