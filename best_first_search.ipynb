{
 "cells": [
  {
   "cell_type": "code",
   "execution_count": 1,
   "id": "80edd779",
   "metadata": {},
   "outputs": [
    {
     "name": "stdout",
     "output_type": "stream",
     "text": [
      "[(17, 'I')]\n",
      "path from S to G:  ['S', 'C', 'B', 'A', 'H', 'E', 'D', 'G']\n"
     ]
    }
   ],
   "source": [
    "\"\"\"\"\n",
    "1. Initialize an empty Priority queue with heapq named hq \n",
    "cost, node = root \n",
    "2. Insert the starting node into heapq.heappush(hq, ()) \n",
    "3. While hq is not empty: t\n",
    "                        remove node u with least evaluation from hq u=(0,0)\n",
    "                        if u is the goal state terminate the search \n",
    "                        mark u as visited \n",
    "                        for every neighbour v of u add u in the hq\n",
    "end the procedure when hq is empty \n",
    "\"\"\"\n",
    "import heapq\n",
    "\n",
    "start = 'S'\n",
    "goal = 'G'\n",
    "graph = {'S' : [['A',7], ['B', 6], ['C', 5]],\n",
    "         'A' : [['H',2], ['G', 12]],\n",
    "         'B' : [['I',17]],\n",
    "         'C' : [['D',9], ['E', 8]],\n",
    "         'H' : [['A',2]],\n",
    "         'G' : [['A',12]],\n",
    "         'I' : [['B',17]],\n",
    "         'D' : [['C',9]],\n",
    "         'E' : [['C',8]]\n",
    "         }\n",
    "\n",
    "def best_first_search(start, goal, graph):\n",
    "    # 1. Initialize an empty Priority queue with heapq named hq \n",
    "    hq = []\n",
    "    root = start \n",
    "    visted = set()\n",
    "    path = []\n",
    "\n",
    "    # 2. Insert the starting node into heapq\n",
    "    heapq.heappush(hq, (0,root)) \n",
    "\n",
    "    # 3. While hq is not empty: \n",
    "    while hq: # T\n",
    "        \n",
    "        # remove node u with least evaluation from hq \n",
    "        u = heapq.heappop(hq)[1] \n",
    "\n",
    "        if u not in visted:\n",
    "            # if u is the goal state terminate the search \n",
    "            \n",
    "            # mark u as visted\n",
    "            visted.add(u) \n",
    "            path.append(u)\n",
    "\n",
    "            if u == goal: \n",
    "                print(hq)\n",
    "                return path\n",
    "            \n",
    "            # for every neighbour v of u add u in the hq\n",
    "            for neighbour, cost  in graph[u]: \n",
    "                \n",
    "                if neighbour not in visted:\n",
    "                    heapq.heappush(hq, (cost, neighbour)) \n",
    "\n",
    "    return []\n",
    "\n",
    "path = best_first_search(start=start, goal=goal, graph=graph)\n",
    "print(\"path from S to G: \",path)"
   ]
  }
 ],
 "metadata": {
  "kernelspec": {
   "display_name": "Python 3",
   "language": "python",
   "name": "python3"
  },
  "language_info": {
   "codemirror_mode": {
    "name": "ipython",
    "version": 3
   },
   "file_extension": ".py",
   "mimetype": "text/x-python",
   "name": "python",
   "nbconvert_exporter": "python",
   "pygments_lexer": "ipython3",
   "version": "3.13.3"
  }
 },
 "nbformat": 4,
 "nbformat_minor": 5
}
